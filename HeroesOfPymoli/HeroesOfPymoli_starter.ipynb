{
 "cells": [
  {
   "cell_type": "markdown",
   "metadata": {},
   "source": [
    "### Heroes Of Pymoli Data Analysis\n",
    "\n",
    "* Of the 1163 active players, the vast majority are male (84%). There also exists, a smaller, but notable proportion of female players (14%).\n",
    "\n",
    "\n",
    "* Our peak age demographic falls between 20-24 (44.8%) with secondary groups falling between 15-19 (18.60%) and 25-29 (13.4%).  \n",
    "\n",
    "--------------------"
   ]
  },
  {
   "cell_type": "markdown",
   "metadata": {},
   "source": [
    "### Note\n",
    "* Instructions have been included for each segment. You do not have to follow them exactly, but they are included to help you think through the steps."
   ]
  },
  {
   "cell_type": "markdown",
   "metadata": {},
   "source": [
    "###  Three observable trends\n",
    "* There are 576 total players, with the majority being male at (84%). \n",
    "* Most players are in the early 20s, between the ages of 20-24 at (45%).\n",
    "* The most popular item is \"Final Critic\" purchased 13 times; followed very closely by \"Oathbreaker, Last Hope of the Breaking Storm\" purchased 12 times.\n",
    "\n",
    "------------------------------"
   ]
  },
  {
   "cell_type": "code",
   "execution_count": 159,
   "metadata": {},
   "outputs": [
    {
     "data": {
      "text/html": [
       "<div>\n",
       "<style scoped>\n",
       "    .dataframe tbody tr th:only-of-type {\n",
       "        vertical-align: middle;\n",
       "    }\n",
       "\n",
       "    .dataframe tbody tr th {\n",
       "        vertical-align: top;\n",
       "    }\n",
       "\n",
       "    .dataframe thead th {\n",
       "        text-align: right;\n",
       "    }\n",
       "</style>\n",
       "<table border=\"1\" class=\"dataframe\">\n",
       "  <thead>\n",
       "    <tr style=\"text-align: right;\">\n",
       "      <th></th>\n",
       "      <th>Purchase ID</th>\n",
       "      <th>SN</th>\n",
       "      <th>Age</th>\n",
       "      <th>Gender</th>\n",
       "      <th>Item ID</th>\n",
       "      <th>Item Name</th>\n",
       "      <th>Price</th>\n",
       "    </tr>\n",
       "  </thead>\n",
       "  <tbody>\n",
       "    <tr>\n",
       "      <th>0</th>\n",
       "      <td>0</td>\n",
       "      <td>Lisim78</td>\n",
       "      <td>20</td>\n",
       "      <td>Male</td>\n",
       "      <td>108</td>\n",
       "      <td>Extraction, Quickblade Of Trembling Hands</td>\n",
       "      <td>3.53</td>\n",
       "    </tr>\n",
       "    <tr>\n",
       "      <th>1</th>\n",
       "      <td>1</td>\n",
       "      <td>Lisovynya38</td>\n",
       "      <td>40</td>\n",
       "      <td>Male</td>\n",
       "      <td>143</td>\n",
       "      <td>Frenzied Scimitar</td>\n",
       "      <td>1.56</td>\n",
       "    </tr>\n",
       "    <tr>\n",
       "      <th>2</th>\n",
       "      <td>2</td>\n",
       "      <td>Ithergue48</td>\n",
       "      <td>24</td>\n",
       "      <td>Male</td>\n",
       "      <td>92</td>\n",
       "      <td>Final Critic</td>\n",
       "      <td>4.88</td>\n",
       "    </tr>\n",
       "    <tr>\n",
       "      <th>3</th>\n",
       "      <td>3</td>\n",
       "      <td>Chamassasya86</td>\n",
       "      <td>24</td>\n",
       "      <td>Male</td>\n",
       "      <td>100</td>\n",
       "      <td>Blindscythe</td>\n",
       "      <td>3.27</td>\n",
       "    </tr>\n",
       "    <tr>\n",
       "      <th>4</th>\n",
       "      <td>4</td>\n",
       "      <td>Iskosia90</td>\n",
       "      <td>23</td>\n",
       "      <td>Male</td>\n",
       "      <td>131</td>\n",
       "      <td>Fury</td>\n",
       "      <td>1.44</td>\n",
       "    </tr>\n",
       "  </tbody>\n",
       "</table>\n",
       "</div>"
      ],
      "text/plain": [
       "   Purchase ID             SN  Age Gender  Item ID  \\\n",
       "0            0        Lisim78   20   Male      108   \n",
       "1            1    Lisovynya38   40   Male      143   \n",
       "2            2     Ithergue48   24   Male       92   \n",
       "3            3  Chamassasya86   24   Male      100   \n",
       "4            4      Iskosia90   23   Male      131   \n",
       "\n",
       "                                   Item Name  Price  \n",
       "0  Extraction, Quickblade Of Trembling Hands   3.53  \n",
       "1                          Frenzied Scimitar   1.56  \n",
       "2                               Final Critic   4.88  \n",
       "3                                Blindscythe   3.27  \n",
       "4                                       Fury   1.44  "
      ]
     },
     "execution_count": 159,
     "metadata": {},
     "output_type": "execute_result"
    }
   ],
   "source": [
    "# Dependencies and Setup\n",
    "import pandas as pd\n",
    "\n",
    "\n",
    "# File to Load (Remember to Change These)\n",
    "file_to_load = \"Resources/purchase_data.csv\"\n",
    "\n",
    "# Read Purchasing File and store into Pandas data frame\n",
    "purchase_data = pd.read_csv(file_to_load)\n",
    "purchase_data.head()"
   ]
  },
  {
   "cell_type": "markdown",
   "metadata": {},
   "source": [
    "## Player Count"
   ]
  },
  {
   "cell_type": "markdown",
   "metadata": {},
   "source": [
    "* Display the total number of players\n"
   ]
  },
  {
   "cell_type": "code",
   "execution_count": 160,
   "metadata": {},
   "outputs": [
    {
     "data": {
      "text/html": [
       "<div>\n",
       "<style scoped>\n",
       "    .dataframe tbody tr th:only-of-type {\n",
       "        vertical-align: middle;\n",
       "    }\n",
       "\n",
       "    .dataframe tbody tr th {\n",
       "        vertical-align: top;\n",
       "    }\n",
       "\n",
       "    .dataframe thead th {\n",
       "        text-align: right;\n",
       "    }\n",
       "</style>\n",
       "<table border=\"1\" class=\"dataframe\">\n",
       "  <thead>\n",
       "    <tr style=\"text-align: right;\">\n",
       "      <th></th>\n",
       "      <th>Total Players</th>\n",
       "    </tr>\n",
       "  </thead>\n",
       "  <tbody>\n",
       "    <tr>\n",
       "      <th>0</th>\n",
       "      <td>576</td>\n",
       "    </tr>\n",
       "  </tbody>\n",
       "</table>\n",
       "</div>"
      ],
      "text/plain": [
       "   Total Players\n",
       "0            576"
      ]
     },
     "execution_count": 160,
     "metadata": {},
     "output_type": "execute_result"
    }
   ],
   "source": [
    "# Player count\n",
    "total_players = len(purchase_data[\"SN\"].unique())\n",
    "\n",
    "#Place summary count into a summary table\n",
    "total_players_df = pd.DataFrame({\"Total Players\": [total_players]})\n",
    "total_players_df"
   ]
  },
  {
   "cell_type": "markdown",
   "metadata": {},
   "source": [
    "## Purchasing Analysis (Total)"
   ]
  },
  {
   "cell_type": "markdown",
   "metadata": {},
   "source": [
    "* Run basic calculations to obtain number of unique items, average price, etc.\n",
    "\n",
    "\n",
    "* Create a summary data frame to hold the results\n",
    "\n",
    "\n",
    "* Optional: give the displayed data cleaner formatting\n",
    "\n",
    "\n",
    "* Display the summary data frame\n"
   ]
  },
  {
   "cell_type": "code",
   "execution_count": 161,
   "metadata": {},
   "outputs": [
    {
     "data": {
      "text/html": [
       "<style  type=\"text/css\" >\n",
       "</style><table id=\"T_3e63c603_a551_11ea_b11a_d4bed904ef1d\" ><thead>    <tr>        <th class=\"blank level0\" ></th>        <th class=\"col_heading level0 col0\" >Number of Unique Items</th>        <th class=\"col_heading level0 col1\" >Average Price</th>        <th class=\"col_heading level0 col2\" >Number of Purchases</th>        <th class=\"col_heading level0 col3\" >Total Revenue</th>    </tr></thead><tbody>\n",
       "                <tr>\n",
       "                        <th id=\"T_3e63c603_a551_11ea_b11a_d4bed904ef1dlevel0_row0\" class=\"row_heading level0 row0\" >0</th>\n",
       "                        <td id=\"T_3e63c603_a551_11ea_b11a_d4bed904ef1drow0_col0\" class=\"data row0 col0\" >179</td>\n",
       "                        <td id=\"T_3e63c603_a551_11ea_b11a_d4bed904ef1drow0_col1\" class=\"data row0 col1\" >$3.05</td>\n",
       "                        <td id=\"T_3e63c603_a551_11ea_b11a_d4bed904ef1drow0_col2\" class=\"data row0 col2\" >780</td>\n",
       "                        <td id=\"T_3e63c603_a551_11ea_b11a_d4bed904ef1drow0_col3\" class=\"data row0 col3\" >$2,379.77</td>\n",
       "            </tr>\n",
       "    </tbody></table>"
      ],
      "text/plain": [
       "<pandas.io.formats.style.Styler at 0x92a24f0>"
      ]
     },
     "execution_count": 161,
     "metadata": {},
     "output_type": "execute_result"
    }
   ],
   "source": [
    "# Run basic calculations to obtain number of unique items, average price, number of purchases and total revenue.\n",
    "number_of_items = len(purchase_data[\"Item Name\"].unique())\n",
    "\n",
    "total_revenue = sum(purchase_data[\"Price\"])\n",
    "\n",
    "total_purchases = len(purchase_data[\"Purchase ID\"])\n",
    "\n",
    "average_price = round(total_revenue / total_purchases, 2)\n",
    "\n",
    "# Display the summary data frame\n",
    "purchasing_sum = pd.DataFrame({\"Number of Unique Items\": [number_of_items], \n",
    "                               \"Average Price\": [average_price],                               \n",
    "                              \"Number of Purchases\": [total_purchases], \"Total Revenue\": [total_revenue]})\n",
    "# purchasing_sum\n",
    "\n",
    "# Formatting\n",
    "formatted_purchasing_dic = {\"Average Price\":\"${0:,.2f}\", \"Total Revenue\":\"${0:,.2f}\"}\n",
    "purchasing_sum.style.format(formatted_purchasing_dic)"
   ]
  },
  {
   "cell_type": "markdown",
   "metadata": {},
   "source": [
    "## Gender Demographics"
   ]
  },
  {
   "cell_type": "markdown",
   "metadata": {},
   "source": [
    "* Percentage and Count of Male Players\n",
    "\n",
    "\n",
    "* Percentage and Count of Female Players\n",
    "\n",
    "\n",
    "* Percentage and Count of Other / Non-Disclosed\n",
    "\n",
    "\n"
   ]
  },
  {
   "cell_type": "code",
   "execution_count": 162,
   "metadata": {},
   "outputs": [
    {
     "data": {
      "text/html": [
       "<style  type=\"text/css\" >\n",
       "</style><table id=\"T_42957175_a551_11ea_a516_d4bed904ef1d\" ><thead>    <tr>        <th class=\"blank level0\" ></th>        <th class=\"col_heading level0 col0\" >Total Count</th>        <th class=\"col_heading level0 col1\" >Percentage of Players</th>    </tr>    <tr>        <th class=\"index_name level0\" >Gender</th>        <th class=\"blank\" ></th>        <th class=\"blank\" ></th>    </tr></thead><tbody>\n",
       "                <tr>\n",
       "                        <th id=\"T_42957175_a551_11ea_a516_d4bed904ef1dlevel0_row0\" class=\"row_heading level0 row0\" >Female</th>\n",
       "                        <td id=\"T_42957175_a551_11ea_a516_d4bed904ef1drow0_col0\" class=\"data row0 col0\" >81</td>\n",
       "                        <td id=\"T_42957175_a551_11ea_a516_d4bed904ef1drow0_col1\" class=\"data row0 col1\" >14.06%</td>\n",
       "            </tr>\n",
       "            <tr>\n",
       "                        <th id=\"T_42957175_a551_11ea_a516_d4bed904ef1dlevel0_row1\" class=\"row_heading level0 row1\" >Male</th>\n",
       "                        <td id=\"T_42957175_a551_11ea_a516_d4bed904ef1drow1_col0\" class=\"data row1 col0\" >484</td>\n",
       "                        <td id=\"T_42957175_a551_11ea_a516_d4bed904ef1drow1_col1\" class=\"data row1 col1\" >84.03%</td>\n",
       "            </tr>\n",
       "            <tr>\n",
       "                        <th id=\"T_42957175_a551_11ea_a516_d4bed904ef1dlevel0_row2\" class=\"row_heading level0 row2\" >Other / Non-Disclosed</th>\n",
       "                        <td id=\"T_42957175_a551_11ea_a516_d4bed904ef1drow2_col0\" class=\"data row2 col0\" >11</td>\n",
       "                        <td id=\"T_42957175_a551_11ea_a516_d4bed904ef1drow2_col1\" class=\"data row2 col1\" >1.91%</td>\n",
       "            </tr>\n",
       "    </tbody></table>"
      ],
      "text/plain": [
       "<pandas.io.formats.style.Styler at 0x94074f0>"
      ]
     },
     "execution_count": 162,
     "metadata": {},
     "output_type": "execute_result"
    }
   ],
   "source": [
    "# Group by gender\n",
    "gender_groups = purchase_data.groupby(['Gender'])\n",
    "# gender_groups.count()\n",
    "\n",
    "# Count of Male, Female and Other/Non-Disclosed Players\n",
    "total_count_bygender = gender_groups.nunique()['SN']\n",
    "# total_count_bygender\n",
    "\n",
    "# Percentage of Male, Female and Other / Non-Disclosed players\n",
    "percentage_of_players = round(total_count_bygender / total_players, 4) \n",
    "# percentage_of_players\n",
    "\n",
    "# Display the summary data frame\n",
    "gender_count_sum = pd.DataFrame({\"Total Count\": total_count_bygender, \"Percentage of Players\": percentage_of_players})\n",
    "# gender_count_sum\n",
    "\n",
    "gender_count_dic = {\"Percentage of Players\":\"{:.2%}\"}\n",
    "gender_count_sum.style.format(gender_count_dic)"
   ]
  },
  {
   "cell_type": "markdown",
   "metadata": {},
   "source": [
    "\n",
    "## Purchasing Analysis (Gender)"
   ]
  },
  {
   "cell_type": "markdown",
   "metadata": {},
   "source": [
    "* Run basic calculations to obtain purchase count, avg. purchase price, avg. purchase total per person etc. by gender\n",
    "\n",
    "\n",
    "\n",
    "\n",
    "* Create a summary data frame to hold the results\n",
    "\n",
    "\n",
    "* Optional: give the displayed data cleaner formatting\n",
    "\n",
    "\n",
    "* Display the summary data frame"
   ]
  },
  {
   "cell_type": "code",
   "execution_count": 163,
   "metadata": {},
   "outputs": [
    {
     "data": {
      "text/html": [
       "<style  type=\"text/css\" >\n",
       "</style><table id=\"T_45851ef6_a551_11ea_bf76_d4bed904ef1d\" ><thead>    <tr>        <th class=\"blank level0\" ></th>        <th class=\"col_heading level0 col0\" >Purchase Count</th>        <th class=\"col_heading level0 col1\" >Average Purchase Price</th>        <th class=\"col_heading level0 col2\" >Total Purchase Value</th>        <th class=\"col_heading level0 col3\" >Average Total Purchase per Person</th>    </tr>    <tr>        <th class=\"index_name level0\" >Gender</th>        <th class=\"blank\" ></th>        <th class=\"blank\" ></th>        <th class=\"blank\" ></th>        <th class=\"blank\" ></th>    </tr></thead><tbody>\n",
       "                <tr>\n",
       "                        <th id=\"T_45851ef6_a551_11ea_bf76_d4bed904ef1dlevel0_row0\" class=\"row_heading level0 row0\" >Female</th>\n",
       "                        <td id=\"T_45851ef6_a551_11ea_bf76_d4bed904ef1drow0_col0\" class=\"data row0 col0\" >113</td>\n",
       "                        <td id=\"T_45851ef6_a551_11ea_bf76_d4bed904ef1drow0_col1\" class=\"data row0 col1\" >$3.20</td>\n",
       "                        <td id=\"T_45851ef6_a551_11ea_bf76_d4bed904ef1drow0_col2\" class=\"data row0 col2\" >$361.94</td>\n",
       "                        <td id=\"T_45851ef6_a551_11ea_bf76_d4bed904ef1drow0_col3\" class=\"data row0 col3\" >$4.47</td>\n",
       "            </tr>\n",
       "            <tr>\n",
       "                        <th id=\"T_45851ef6_a551_11ea_bf76_d4bed904ef1dlevel0_row1\" class=\"row_heading level0 row1\" >Male</th>\n",
       "                        <td id=\"T_45851ef6_a551_11ea_bf76_d4bed904ef1drow1_col0\" class=\"data row1 col0\" >652</td>\n",
       "                        <td id=\"T_45851ef6_a551_11ea_bf76_d4bed904ef1drow1_col1\" class=\"data row1 col1\" >$3.02</td>\n",
       "                        <td id=\"T_45851ef6_a551_11ea_bf76_d4bed904ef1drow1_col2\" class=\"data row1 col2\" >$1,967.64</td>\n",
       "                        <td id=\"T_45851ef6_a551_11ea_bf76_d4bed904ef1drow1_col3\" class=\"data row1 col3\" >$4.07</td>\n",
       "            </tr>\n",
       "            <tr>\n",
       "                        <th id=\"T_45851ef6_a551_11ea_bf76_d4bed904ef1dlevel0_row2\" class=\"row_heading level0 row2\" >Other / Non-Disclosed</th>\n",
       "                        <td id=\"T_45851ef6_a551_11ea_bf76_d4bed904ef1drow2_col0\" class=\"data row2 col0\" >15</td>\n",
       "                        <td id=\"T_45851ef6_a551_11ea_bf76_d4bed904ef1drow2_col1\" class=\"data row2 col1\" >$3.35</td>\n",
       "                        <td id=\"T_45851ef6_a551_11ea_bf76_d4bed904ef1drow2_col2\" class=\"data row2 col2\" >$50.19</td>\n",
       "                        <td id=\"T_45851ef6_a551_11ea_bf76_d4bed904ef1drow2_col3\" class=\"data row2 col3\" >$4.56</td>\n",
       "            </tr>\n",
       "    </tbody></table>"
      ],
      "text/plain": [
       "<pandas.io.formats.style.Styler at 0x92a2eb0>"
      ]
     },
     "execution_count": 163,
     "metadata": {},
     "output_type": "execute_result"
    }
   ],
   "source": [
    "# Run basic calculations to obtain purchase count, avg. purchase price, avg. purchase total per person etc. by gender\n",
    "purchase_count = gender_groups['Purchase ID'].count()\n",
    "\n",
    "avg_purchase_price = round(gender_groups['Price'].mean(), 2)\n",
    "\n",
    "total_purchase_gender = gender_groups['Price'].sum()\n",
    "\n",
    "avg_purchase_gender = round(total_purchase_gender / total_count_bygender, 2)\n",
    "\n",
    "# Display the summary data frame\n",
    "purchase_demo = pd.DataFrame({\"Purchase Count\": purchase_count, \"Average Purchase Price\": avg_purchase_price,\n",
    "                              \"Total Purchase Value\": total_purchase_gender, \n",
    "                              \"Average Total Purchase per Person\": avg_purchase_gender})\n",
    "# purchase_demo\n",
    "\n",
    "formatted_purchase_dic = {\"Average Purchase Price\":\"${0:,.2f}\" , \"Total Purchase Value\":\"${0:,.2f}\",\n",
    "                              \"Average Total Purchase per Person\":\"${0:.2f}\"}\n",
    "\n",
    "purchase_demo.style.format(formatted_purchase_dic)"
   ]
  },
  {
   "cell_type": "markdown",
   "metadata": {},
   "source": [
    "## Age Demographics"
   ]
  },
  {
   "cell_type": "markdown",
   "metadata": {},
   "source": [
    "* Establish bins for ages\n",
    "\n",
    "\n",
    "* Categorize the existing players using the age bins. Hint: use pd.cut()\n",
    "\n",
    "\n",
    "* Calculate the numbers and percentages by age group\n",
    "\n",
    "\n",
    "* Create a summary data frame to hold the results\n",
    "\n",
    "\n",
    "* Optional: round the percentage column to two decimal points\n",
    "\n",
    "\n",
    "* Display Age Demographics Table\n"
   ]
  },
  {
   "cell_type": "code",
   "execution_count": 164,
   "metadata": {},
   "outputs": [
    {
     "data": {
      "text/html": [
       "<div>\n",
       "<style scoped>\n",
       "    .dataframe tbody tr th:only-of-type {\n",
       "        vertical-align: middle;\n",
       "    }\n",
       "\n",
       "    .dataframe tbody tr th {\n",
       "        vertical-align: top;\n",
       "    }\n",
       "\n",
       "    .dataframe thead th {\n",
       "        text-align: right;\n",
       "    }\n",
       "</style>\n",
       "<table border=\"1\" class=\"dataframe\">\n",
       "  <thead>\n",
       "    <tr style=\"text-align: right;\">\n",
       "      <th></th>\n",
       "      <th>Purchase ID</th>\n",
       "      <th>SN</th>\n",
       "      <th>Age</th>\n",
       "      <th>Gender</th>\n",
       "      <th>Item ID</th>\n",
       "      <th>Item Name</th>\n",
       "      <th>Price</th>\n",
       "      <th>Age Range</th>\n",
       "    </tr>\n",
       "  </thead>\n",
       "  <tbody>\n",
       "    <tr>\n",
       "      <th>0</th>\n",
       "      <td>0</td>\n",
       "      <td>Lisim78</td>\n",
       "      <td>20</td>\n",
       "      <td>Male</td>\n",
       "      <td>108</td>\n",
       "      <td>Extraction, Quickblade Of Trembling Hands</td>\n",
       "      <td>3.53</td>\n",
       "      <td>20-24</td>\n",
       "    </tr>\n",
       "    <tr>\n",
       "      <th>1</th>\n",
       "      <td>1</td>\n",
       "      <td>Lisovynya38</td>\n",
       "      <td>40</td>\n",
       "      <td>Male</td>\n",
       "      <td>143</td>\n",
       "      <td>Frenzied Scimitar</td>\n",
       "      <td>1.56</td>\n",
       "      <td>40+</td>\n",
       "    </tr>\n",
       "    <tr>\n",
       "      <th>2</th>\n",
       "      <td>2</td>\n",
       "      <td>Ithergue48</td>\n",
       "      <td>24</td>\n",
       "      <td>Male</td>\n",
       "      <td>92</td>\n",
       "      <td>Final Critic</td>\n",
       "      <td>4.88</td>\n",
       "      <td>20-24</td>\n",
       "    </tr>\n",
       "    <tr>\n",
       "      <th>3</th>\n",
       "      <td>3</td>\n",
       "      <td>Chamassasya86</td>\n",
       "      <td>24</td>\n",
       "      <td>Male</td>\n",
       "      <td>100</td>\n",
       "      <td>Blindscythe</td>\n",
       "      <td>3.27</td>\n",
       "      <td>20-24</td>\n",
       "    </tr>\n",
       "    <tr>\n",
       "      <th>4</th>\n",
       "      <td>4</td>\n",
       "      <td>Iskosia90</td>\n",
       "      <td>23</td>\n",
       "      <td>Male</td>\n",
       "      <td>131</td>\n",
       "      <td>Fury</td>\n",
       "      <td>1.44</td>\n",
       "      <td>20-24</td>\n",
       "    </tr>\n",
       "  </tbody>\n",
       "</table>\n",
       "</div>"
      ],
      "text/plain": [
       "   Purchase ID             SN  Age Gender  Item ID  \\\n",
       "0            0        Lisim78   20   Male      108   \n",
       "1            1    Lisovynya38   40   Male      143   \n",
       "2            2     Ithergue48   24   Male       92   \n",
       "3            3  Chamassasya86   24   Male      100   \n",
       "4            4      Iskosia90   23   Male      131   \n",
       "\n",
       "                                   Item Name  Price Age Range  \n",
       "0  Extraction, Quickblade Of Trembling Hands   3.53     20-24  \n",
       "1                          Frenzied Scimitar   1.56       40+  \n",
       "2                               Final Critic   4.88     20-24  \n",
       "3                                Blindscythe   3.27     20-24  \n",
       "4                                       Fury   1.44     20-24  "
      ]
     },
     "execution_count": 164,
     "metadata": {},
     "output_type": "execute_result"
    }
   ],
   "source": [
    "# Establish bins for ages\n",
    "bins = [0, 9, 14, 19, 24, 29, 34, 39, 100]\n",
    "labels = [\"<10\", \"10-14\", \"15-19\", \"20-24\", \"25-29\", \"30-34\", \"35-39\", \"40+\"]\n",
    "# Categorize the existing players using the age bins\n",
    "purchase_data[\"Age Range\"] = pd.cut(purchase_data[\"Age\"], bins=bins, labels=labels)\n",
    "purchase_data.head()"
   ]
  },
  {
   "cell_type": "code",
   "execution_count": 165,
   "metadata": {},
   "outputs": [
    {
     "data": {
      "text/html": [
       "<style  type=\"text/css\" >\n",
       "</style><table id=\"T_49d5705d_a551_11ea_8078_d4bed904ef1d\" ><thead>    <tr>        <th class=\"blank level0\" ></th>        <th class=\"col_heading level0 col0\" >Total Count</th>        <th class=\"col_heading level0 col1\" >Percentage of Players</th>    </tr>    <tr>        <th class=\"index_name level0\" >Age Range</th>        <th class=\"blank\" ></th>        <th class=\"blank\" ></th>    </tr></thead><tbody>\n",
       "                <tr>\n",
       "                        <th id=\"T_49d5705d_a551_11ea_8078_d4bed904ef1dlevel0_row0\" class=\"row_heading level0 row0\" ><10</th>\n",
       "                        <td id=\"T_49d5705d_a551_11ea_8078_d4bed904ef1drow0_col0\" class=\"data row0 col0\" >17</td>\n",
       "                        <td id=\"T_49d5705d_a551_11ea_8078_d4bed904ef1drow0_col1\" class=\"data row0 col1\" >2.95%</td>\n",
       "            </tr>\n",
       "            <tr>\n",
       "                        <th id=\"T_49d5705d_a551_11ea_8078_d4bed904ef1dlevel0_row1\" class=\"row_heading level0 row1\" >10-14</th>\n",
       "                        <td id=\"T_49d5705d_a551_11ea_8078_d4bed904ef1drow1_col0\" class=\"data row1 col0\" >22</td>\n",
       "                        <td id=\"T_49d5705d_a551_11ea_8078_d4bed904ef1drow1_col1\" class=\"data row1 col1\" >3.82%</td>\n",
       "            </tr>\n",
       "            <tr>\n",
       "                        <th id=\"T_49d5705d_a551_11ea_8078_d4bed904ef1dlevel0_row2\" class=\"row_heading level0 row2\" >15-19</th>\n",
       "                        <td id=\"T_49d5705d_a551_11ea_8078_d4bed904ef1drow2_col0\" class=\"data row2 col0\" >107</td>\n",
       "                        <td id=\"T_49d5705d_a551_11ea_8078_d4bed904ef1drow2_col1\" class=\"data row2 col1\" >18.58%</td>\n",
       "            </tr>\n",
       "            <tr>\n",
       "                        <th id=\"T_49d5705d_a551_11ea_8078_d4bed904ef1dlevel0_row3\" class=\"row_heading level0 row3\" >20-24</th>\n",
       "                        <td id=\"T_49d5705d_a551_11ea_8078_d4bed904ef1drow3_col0\" class=\"data row3 col0\" >258</td>\n",
       "                        <td id=\"T_49d5705d_a551_11ea_8078_d4bed904ef1drow3_col1\" class=\"data row3 col1\" >44.79%</td>\n",
       "            </tr>\n",
       "            <tr>\n",
       "                        <th id=\"T_49d5705d_a551_11ea_8078_d4bed904ef1dlevel0_row4\" class=\"row_heading level0 row4\" >25-29</th>\n",
       "                        <td id=\"T_49d5705d_a551_11ea_8078_d4bed904ef1drow4_col0\" class=\"data row4 col0\" >77</td>\n",
       "                        <td id=\"T_49d5705d_a551_11ea_8078_d4bed904ef1drow4_col1\" class=\"data row4 col1\" >13.37%</td>\n",
       "            </tr>\n",
       "            <tr>\n",
       "                        <th id=\"T_49d5705d_a551_11ea_8078_d4bed904ef1dlevel0_row5\" class=\"row_heading level0 row5\" >30-34</th>\n",
       "                        <td id=\"T_49d5705d_a551_11ea_8078_d4bed904ef1drow5_col0\" class=\"data row5 col0\" >52</td>\n",
       "                        <td id=\"T_49d5705d_a551_11ea_8078_d4bed904ef1drow5_col1\" class=\"data row5 col1\" >9.03%</td>\n",
       "            </tr>\n",
       "            <tr>\n",
       "                        <th id=\"T_49d5705d_a551_11ea_8078_d4bed904ef1dlevel0_row6\" class=\"row_heading level0 row6\" >35-39</th>\n",
       "                        <td id=\"T_49d5705d_a551_11ea_8078_d4bed904ef1drow6_col0\" class=\"data row6 col0\" >31</td>\n",
       "                        <td id=\"T_49d5705d_a551_11ea_8078_d4bed904ef1drow6_col1\" class=\"data row6 col1\" >5.38%</td>\n",
       "            </tr>\n",
       "            <tr>\n",
       "                        <th id=\"T_49d5705d_a551_11ea_8078_d4bed904ef1dlevel0_row7\" class=\"row_heading level0 row7\" >40+</th>\n",
       "                        <td id=\"T_49d5705d_a551_11ea_8078_d4bed904ef1drow7_col0\" class=\"data row7 col0\" >12</td>\n",
       "                        <td id=\"T_49d5705d_a551_11ea_8078_d4bed904ef1drow7_col1\" class=\"data row7 col1\" >2.08%</td>\n",
       "            </tr>\n",
       "    </tbody></table>"
      ],
      "text/plain": [
       "<pandas.io.formats.style.Styler at 0x9516b50>"
      ]
     },
     "execution_count": 165,
     "metadata": {},
     "output_type": "execute_result"
    }
   ],
   "source": [
    "# Group by age\n",
    "age_grouped = purchase_data.groupby(\"Age Range\")\n",
    "\n",
    "# Calculate the numbers and percentages by age group\n",
    "total_count = age_grouped['SN'].nunique()\n",
    "\n",
    "percentage_age = round(total_count/total_players, 4) \n",
    "\n",
    "# Display the summary data frame\n",
    "age_demo = pd.DataFrame({\"Total Count\": total_count, \n",
    "                        \"Percentage of Players\": percentage_age})\n",
    "# age_demo\n",
    "\n",
    "age_demo_dic = {\"Percentage of Players\":\"{:.2%}\"}\n",
    "age_demo.style.format(age_demo_dic)"
   ]
  },
  {
   "cell_type": "markdown",
   "metadata": {},
   "source": [
    "## Purchasing Analysis (Age)"
   ]
  },
  {
   "cell_type": "markdown",
   "metadata": {},
   "source": [
    "* Bin the purchase_data data frame by age\n",
    "\n",
    "\n",
    "* Run basic calculations to obtain purchase count, avg. purchase price, avg. purchase total per person etc. in the table below\n",
    "\n",
    "\n",
    "* Create a summary data frame to hold the results\n",
    "\n",
    "\n",
    "* Optional: give the displayed data cleaner formatting\n",
    "\n",
    "\n",
    "* Display the summary data frame"
   ]
  },
  {
   "cell_type": "code",
   "execution_count": 166,
   "metadata": {},
   "outputs": [
    {
     "data": {
      "text/html": [
       "<style  type=\"text/css\" >\n",
       "</style><table id=\"T_4c723239_a551_11ea_b8f4_d4bed904ef1d\" ><thead>    <tr>        <th class=\"blank level0\" ></th>        <th class=\"col_heading level0 col0\" >Purchase Count</th>        <th class=\"col_heading level0 col1\" >Average Purchase Price</th>        <th class=\"col_heading level0 col2\" >Total Purchase Value</th>        <th class=\"col_heading level0 col3\" >Average Total Purchase per Person</th>    </tr>    <tr>        <th class=\"index_name level0\" >Age Range</th>        <th class=\"blank\" ></th>        <th class=\"blank\" ></th>        <th class=\"blank\" ></th>        <th class=\"blank\" ></th>    </tr></thead><tbody>\n",
       "                <tr>\n",
       "                        <th id=\"T_4c723239_a551_11ea_b8f4_d4bed904ef1dlevel0_row0\" class=\"row_heading level0 row0\" ><10</th>\n",
       "                        <td id=\"T_4c723239_a551_11ea_b8f4_d4bed904ef1drow0_col0\" class=\"data row0 col0\" >23</td>\n",
       "                        <td id=\"T_4c723239_a551_11ea_b8f4_d4bed904ef1drow0_col1\" class=\"data row0 col1\" >$3.35</td>\n",
       "                        <td id=\"T_4c723239_a551_11ea_b8f4_d4bed904ef1drow0_col2\" class=\"data row0 col2\" >$77.13</td>\n",
       "                        <td id=\"T_4c723239_a551_11ea_b8f4_d4bed904ef1drow0_col3\" class=\"data row0 col3\" >$4.54</td>\n",
       "            </tr>\n",
       "            <tr>\n",
       "                        <th id=\"T_4c723239_a551_11ea_b8f4_d4bed904ef1dlevel0_row1\" class=\"row_heading level0 row1\" >10-14</th>\n",
       "                        <td id=\"T_4c723239_a551_11ea_b8f4_d4bed904ef1drow1_col0\" class=\"data row1 col0\" >28</td>\n",
       "                        <td id=\"T_4c723239_a551_11ea_b8f4_d4bed904ef1drow1_col1\" class=\"data row1 col1\" >$2.96</td>\n",
       "                        <td id=\"T_4c723239_a551_11ea_b8f4_d4bed904ef1drow1_col2\" class=\"data row1 col2\" >$82.78</td>\n",
       "                        <td id=\"T_4c723239_a551_11ea_b8f4_d4bed904ef1drow1_col3\" class=\"data row1 col3\" >$3.76</td>\n",
       "            </tr>\n",
       "            <tr>\n",
       "                        <th id=\"T_4c723239_a551_11ea_b8f4_d4bed904ef1dlevel0_row2\" class=\"row_heading level0 row2\" >15-19</th>\n",
       "                        <td id=\"T_4c723239_a551_11ea_b8f4_d4bed904ef1drow2_col0\" class=\"data row2 col0\" >136</td>\n",
       "                        <td id=\"T_4c723239_a551_11ea_b8f4_d4bed904ef1drow2_col1\" class=\"data row2 col1\" >$3.04</td>\n",
       "                        <td id=\"T_4c723239_a551_11ea_b8f4_d4bed904ef1drow2_col2\" class=\"data row2 col2\" >$412.89</td>\n",
       "                        <td id=\"T_4c723239_a551_11ea_b8f4_d4bed904ef1drow2_col3\" class=\"data row2 col3\" >$3.86</td>\n",
       "            </tr>\n",
       "            <tr>\n",
       "                        <th id=\"T_4c723239_a551_11ea_b8f4_d4bed904ef1dlevel0_row3\" class=\"row_heading level0 row3\" >20-24</th>\n",
       "                        <td id=\"T_4c723239_a551_11ea_b8f4_d4bed904ef1drow3_col0\" class=\"data row3 col0\" >365</td>\n",
       "                        <td id=\"T_4c723239_a551_11ea_b8f4_d4bed904ef1drow3_col1\" class=\"data row3 col1\" >$3.05</td>\n",
       "                        <td id=\"T_4c723239_a551_11ea_b8f4_d4bed904ef1drow3_col2\" class=\"data row3 col2\" >$1,114.06</td>\n",
       "                        <td id=\"T_4c723239_a551_11ea_b8f4_d4bed904ef1drow3_col3\" class=\"data row3 col3\" >$4.32</td>\n",
       "            </tr>\n",
       "            <tr>\n",
       "                        <th id=\"T_4c723239_a551_11ea_b8f4_d4bed904ef1dlevel0_row4\" class=\"row_heading level0 row4\" >25-29</th>\n",
       "                        <td id=\"T_4c723239_a551_11ea_b8f4_d4bed904ef1drow4_col0\" class=\"data row4 col0\" >101</td>\n",
       "                        <td id=\"T_4c723239_a551_11ea_b8f4_d4bed904ef1drow4_col1\" class=\"data row4 col1\" >$2.90</td>\n",
       "                        <td id=\"T_4c723239_a551_11ea_b8f4_d4bed904ef1drow4_col2\" class=\"data row4 col2\" >$293.00</td>\n",
       "                        <td id=\"T_4c723239_a551_11ea_b8f4_d4bed904ef1drow4_col3\" class=\"data row4 col3\" >$3.81</td>\n",
       "            </tr>\n",
       "            <tr>\n",
       "                        <th id=\"T_4c723239_a551_11ea_b8f4_d4bed904ef1dlevel0_row5\" class=\"row_heading level0 row5\" >30-34</th>\n",
       "                        <td id=\"T_4c723239_a551_11ea_b8f4_d4bed904ef1drow5_col0\" class=\"data row5 col0\" >73</td>\n",
       "                        <td id=\"T_4c723239_a551_11ea_b8f4_d4bed904ef1drow5_col1\" class=\"data row5 col1\" >$2.93</td>\n",
       "                        <td id=\"T_4c723239_a551_11ea_b8f4_d4bed904ef1drow5_col2\" class=\"data row5 col2\" >$214.00</td>\n",
       "                        <td id=\"T_4c723239_a551_11ea_b8f4_d4bed904ef1drow5_col3\" class=\"data row5 col3\" >$4.12</td>\n",
       "            </tr>\n",
       "            <tr>\n",
       "                        <th id=\"T_4c723239_a551_11ea_b8f4_d4bed904ef1dlevel0_row6\" class=\"row_heading level0 row6\" >35-39</th>\n",
       "                        <td id=\"T_4c723239_a551_11ea_b8f4_d4bed904ef1drow6_col0\" class=\"data row6 col0\" >41</td>\n",
       "                        <td id=\"T_4c723239_a551_11ea_b8f4_d4bed904ef1drow6_col1\" class=\"data row6 col1\" >$3.60</td>\n",
       "                        <td id=\"T_4c723239_a551_11ea_b8f4_d4bed904ef1drow6_col2\" class=\"data row6 col2\" >$147.67</td>\n",
       "                        <td id=\"T_4c723239_a551_11ea_b8f4_d4bed904ef1drow6_col3\" class=\"data row6 col3\" >$4.76</td>\n",
       "            </tr>\n",
       "            <tr>\n",
       "                        <th id=\"T_4c723239_a551_11ea_b8f4_d4bed904ef1dlevel0_row7\" class=\"row_heading level0 row7\" >40+</th>\n",
       "                        <td id=\"T_4c723239_a551_11ea_b8f4_d4bed904ef1drow7_col0\" class=\"data row7 col0\" >13</td>\n",
       "                        <td id=\"T_4c723239_a551_11ea_b8f4_d4bed904ef1drow7_col1\" class=\"data row7 col1\" >$2.94</td>\n",
       "                        <td id=\"T_4c723239_a551_11ea_b8f4_d4bed904ef1drow7_col2\" class=\"data row7 col2\" >$38.24</td>\n",
       "                        <td id=\"T_4c723239_a551_11ea_b8f4_d4bed904ef1drow7_col3\" class=\"data row7 col3\" >$3.19</td>\n",
       "            </tr>\n",
       "    </tbody></table>"
      ],
      "text/plain": [
       "<pandas.io.formats.style.Styler at 0x8fdcb80>"
      ]
     },
     "execution_count": 166,
     "metadata": {},
     "output_type": "execute_result"
    }
   ],
   "source": [
    "# Bin the purchase_data data frame by age - done in previous frame\n",
    "\n",
    "# Run basic calculations to obtain purchase count, avg. purchase price, avg. purchase total per person etc\n",
    "purchase_count = age_grouped['Purchase ID'].count()\n",
    "\n",
    "avg_purchase_price = round(age_grouped['Price'].mean(), 2)\n",
    "\n",
    "total_purchase = age_grouped['Price'].sum()\n",
    "\n",
    "avg_purchase = round(total_purchase / total_count, 2)\n",
    "\n",
    "# Display the summary data frame\n",
    "purchase_demo_byage = pd.DataFrame({\"Purchase Count\": purchase_count, \"Average Purchase Price\": avg_purchase_price,\n",
    "                              \"Total Purchase Value\": total_purchase, \n",
    "                              \"Average Total Purchase per Person\": avg_purchase})\n",
    "# purchase_demo_byage\n",
    "\n",
    "purchase_byage_dic = {\"Average Purchase Price\":\"${0:,.2f}\", \"Total Purchase Value\":\"${0:,.2f}\", \n",
    "                     \"Average Total Purchase per Person\":\"${0:,.2f}\"}\n",
    "purchase_demo_byage.style.format(purchase_byage_dic)"
   ]
  },
  {
   "cell_type": "markdown",
   "metadata": {},
   "source": [
    "## Top Spenders"
   ]
  },
  {
   "cell_type": "markdown",
   "metadata": {},
   "source": [
    "* Run basic calculations to obtain the results in the table below\n",
    "\n",
    "\n",
    "* Create a summary data frame to hold the results\n",
    "\n",
    "\n",
    "* Sort the total purchase value column in descending order\n",
    "\n",
    "\n",
    "* Optional: give the displayed data cleaner formatting\n",
    "\n",
    "\n",
    "* Display a preview of the summary data frame\n",
    "\n"
   ]
  },
  {
   "cell_type": "code",
   "execution_count": 167,
   "metadata": {},
   "outputs": [
    {
     "data": {
      "text/html": [
       "<style  type=\"text/css\" >\n",
       "</style><table id=\"T_4f6a14f8_a551_11ea_9b4b_d4bed904ef1d\" ><thead>    <tr>        <th class=\"blank level0\" ></th>        <th class=\"col_heading level0 col0\" >Purchase Count</th>        <th class=\"col_heading level0 col1\" >Average Purchase Price</th>        <th class=\"col_heading level0 col2\" >Total Purchase Value</th>    </tr>    <tr>        <th class=\"index_name level0\" >SN</th>        <th class=\"blank\" ></th>        <th class=\"blank\" ></th>        <th class=\"blank\" ></th>    </tr></thead><tbody>\n",
       "                <tr>\n",
       "                        <th id=\"T_4f6a14f8_a551_11ea_9b4b_d4bed904ef1dlevel0_row0\" class=\"row_heading level0 row0\" >Lisosia93</th>\n",
       "                        <td id=\"T_4f6a14f8_a551_11ea_9b4b_d4bed904ef1drow0_col0\" class=\"data row0 col0\" >5</td>\n",
       "                        <td id=\"T_4f6a14f8_a551_11ea_9b4b_d4bed904ef1drow0_col1\" class=\"data row0 col1\" >$3.79</td>\n",
       "                        <td id=\"T_4f6a14f8_a551_11ea_9b4b_d4bed904ef1drow0_col2\" class=\"data row0 col2\" >$18.96</td>\n",
       "            </tr>\n",
       "            <tr>\n",
       "                        <th id=\"T_4f6a14f8_a551_11ea_9b4b_d4bed904ef1dlevel0_row1\" class=\"row_heading level0 row1\" >Idastidru52</th>\n",
       "                        <td id=\"T_4f6a14f8_a551_11ea_9b4b_d4bed904ef1drow1_col0\" class=\"data row1 col0\" >4</td>\n",
       "                        <td id=\"T_4f6a14f8_a551_11ea_9b4b_d4bed904ef1drow1_col1\" class=\"data row1 col1\" >$3.86</td>\n",
       "                        <td id=\"T_4f6a14f8_a551_11ea_9b4b_d4bed904ef1drow1_col2\" class=\"data row1 col2\" >$15.45</td>\n",
       "            </tr>\n",
       "            <tr>\n",
       "                        <th id=\"T_4f6a14f8_a551_11ea_9b4b_d4bed904ef1dlevel0_row2\" class=\"row_heading level0 row2\" >Chamjask73</th>\n",
       "                        <td id=\"T_4f6a14f8_a551_11ea_9b4b_d4bed904ef1drow2_col0\" class=\"data row2 col0\" >3</td>\n",
       "                        <td id=\"T_4f6a14f8_a551_11ea_9b4b_d4bed904ef1drow2_col1\" class=\"data row2 col1\" >$4.61</td>\n",
       "                        <td id=\"T_4f6a14f8_a551_11ea_9b4b_d4bed904ef1drow2_col2\" class=\"data row2 col2\" >$13.83</td>\n",
       "            </tr>\n",
       "            <tr>\n",
       "                        <th id=\"T_4f6a14f8_a551_11ea_9b4b_d4bed904ef1dlevel0_row3\" class=\"row_heading level0 row3\" >Iral74</th>\n",
       "                        <td id=\"T_4f6a14f8_a551_11ea_9b4b_d4bed904ef1drow3_col0\" class=\"data row3 col0\" >4</td>\n",
       "                        <td id=\"T_4f6a14f8_a551_11ea_9b4b_d4bed904ef1drow3_col1\" class=\"data row3 col1\" >$3.40</td>\n",
       "                        <td id=\"T_4f6a14f8_a551_11ea_9b4b_d4bed904ef1drow3_col2\" class=\"data row3 col2\" >$13.62</td>\n",
       "            </tr>\n",
       "            <tr>\n",
       "                        <th id=\"T_4f6a14f8_a551_11ea_9b4b_d4bed904ef1dlevel0_row4\" class=\"row_heading level0 row4\" >Iskadarya95</th>\n",
       "                        <td id=\"T_4f6a14f8_a551_11ea_9b4b_d4bed904ef1drow4_col0\" class=\"data row4 col0\" >3</td>\n",
       "                        <td id=\"T_4f6a14f8_a551_11ea_9b4b_d4bed904ef1drow4_col1\" class=\"data row4 col1\" >$4.37</td>\n",
       "                        <td id=\"T_4f6a14f8_a551_11ea_9b4b_d4bed904ef1drow4_col2\" class=\"data row4 col2\" >$13.10</td>\n",
       "            </tr>\n",
       "    </tbody></table>"
      ],
      "text/plain": [
       "<pandas.io.formats.style.Styler at 0x924f640>"
      ]
     },
     "execution_count": 167,
     "metadata": {},
     "output_type": "execute_result"
    }
   ],
   "source": [
    "# Group spenders by ID Name\n",
    "spenders_grouped = purchase_data.groupby(\"SN\")\n",
    "# spenders_grouped.head()\n",
    "\n",
    "# Run basic calculations to obtain the results: purchase count, avg purchase price and total purchase value\n",
    "purchase_spenders_count = spenders_grouped[\"Purchase ID\"].count()\n",
    "# purchase_spenders_count\n",
    "\n",
    "price_spenders_avg = round(spenders_grouped[\"Price\"].mean(), 2)\n",
    "# price_spenders_avg\n",
    "\n",
    "purchase_spenders_total = spenders_grouped[\"Price\"].sum()\n",
    "# purchase_spenders_total\n",
    "\n",
    "# Display the summary data frame\n",
    "spenders_demo = pd.DataFrame({\"Purchase Count\": purchase_spenders_count, \"Average Purchase Price\": price_spenders_avg,\n",
    "                                \"Total Purchase Value\": purchase_spenders_total})\n",
    "# spenders_demo\n",
    "\n",
    "# Formatting\n",
    "spenders_dic = {\"Average Purchase Price\":\"${0:,.2f}\", \"Total Purchase Value\":\"${0:,.2f}\"}\n",
    "\n",
    "# Sort the total purchase value column in descending order\n",
    "descend_spenders_demo = spenders_demo.sort_values([\"Total Purchase Value\"], ascending=False).head()\n",
    "\n",
    "# Display a preview of the summary data frame\n",
    "descend_spenders_demo.style.format(spenders_dic)\n",
    "\n"
   ]
  },
  {
   "cell_type": "markdown",
   "metadata": {},
   "source": [
    "## Most Popular Items"
   ]
  },
  {
   "cell_type": "markdown",
   "metadata": {},
   "source": [
    "* Retrieve the Item ID, Item Name, and Item Price columns\n",
    "\n",
    "\n",
    "* Group by Item ID and Item Name. Perform calculations to obtain purchase count, item price, and total purchase value\n",
    "\n",
    "\n",
    "* Create a summary data frame to hold the results\n",
    "\n",
    "\n",
    "* Sort the purchase count column in descending order\n",
    "\n",
    "\n",
    "* Optional: give the displayed data cleaner formatting\n",
    "\n",
    "\n",
    "* Display a preview of the summary data frame\n",
    "\n"
   ]
  },
  {
   "cell_type": "code",
   "execution_count": 168,
   "metadata": {},
   "outputs": [
    {
     "data": {
      "text/html": [
       "<style  type=\"text/css\" >\n",
       "</style><table id=\"T_546cf09e_a551_11ea_81d6_d4bed904ef1d\" ><thead>    <tr>        <th class=\"blank\" ></th>        <th class=\"blank level0\" ></th>        <th class=\"col_heading level0 col0\" >Purchase Count</th>        <th class=\"col_heading level0 col1\" >Item Price</th>        <th class=\"col_heading level0 col2\" >Total ID Purchase Value</th>    </tr>    <tr>        <th class=\"index_name level0\" >Item ID</th>        <th class=\"index_name level1\" >Item Name</th>        <th class=\"blank\" ></th>        <th class=\"blank\" ></th>        <th class=\"blank\" ></th>    </tr></thead><tbody>\n",
       "                <tr>\n",
       "                        <th id=\"T_546cf09e_a551_11ea_81d6_d4bed904ef1dlevel0_row0\" class=\"row_heading level0 row0\" >92</th>\n",
       "                        <th id=\"T_546cf09e_a551_11ea_81d6_d4bed904ef1dlevel1_row0\" class=\"row_heading level1 row0\" >Final Critic</th>\n",
       "                        <td id=\"T_546cf09e_a551_11ea_81d6_d4bed904ef1drow0_col0\" class=\"data row0 col0\" >13</td>\n",
       "                        <td id=\"T_546cf09e_a551_11ea_81d6_d4bed904ef1drow0_col1\" class=\"data row0 col1\" >$4.61</td>\n",
       "                        <td id=\"T_546cf09e_a551_11ea_81d6_d4bed904ef1drow0_col2\" class=\"data row0 col2\" >$59.99</td>\n",
       "            </tr>\n",
       "            <tr>\n",
       "                        <th id=\"T_546cf09e_a551_11ea_81d6_d4bed904ef1dlevel0_row1\" class=\"row_heading level0 row1\" >178</th>\n",
       "                        <th id=\"T_546cf09e_a551_11ea_81d6_d4bed904ef1dlevel1_row1\" class=\"row_heading level1 row1\" >Oathbreaker, Last Hope of the Breaking Storm</th>\n",
       "                        <td id=\"T_546cf09e_a551_11ea_81d6_d4bed904ef1drow1_col0\" class=\"data row1 col0\" >12</td>\n",
       "                        <td id=\"T_546cf09e_a551_11ea_81d6_d4bed904ef1drow1_col1\" class=\"data row1 col1\" >$4.23</td>\n",
       "                        <td id=\"T_546cf09e_a551_11ea_81d6_d4bed904ef1drow1_col2\" class=\"data row1 col2\" >$50.76</td>\n",
       "            </tr>\n",
       "            <tr>\n",
       "                        <th id=\"T_546cf09e_a551_11ea_81d6_d4bed904ef1dlevel0_row2\" class=\"row_heading level0 row2\" >145</th>\n",
       "                        <th id=\"T_546cf09e_a551_11ea_81d6_d4bed904ef1dlevel1_row2\" class=\"row_heading level1 row2\" >Fiery Glass Crusader</th>\n",
       "                        <td id=\"T_546cf09e_a551_11ea_81d6_d4bed904ef1drow2_col0\" class=\"data row2 col0\" >9</td>\n",
       "                        <td id=\"T_546cf09e_a551_11ea_81d6_d4bed904ef1drow2_col1\" class=\"data row2 col1\" >$4.58</td>\n",
       "                        <td id=\"T_546cf09e_a551_11ea_81d6_d4bed904ef1drow2_col2\" class=\"data row2 col2\" >$41.22</td>\n",
       "            </tr>\n",
       "            <tr>\n",
       "                        <th id=\"T_546cf09e_a551_11ea_81d6_d4bed904ef1dlevel0_row3\" class=\"row_heading level0 row3\" >132</th>\n",
       "                        <th id=\"T_546cf09e_a551_11ea_81d6_d4bed904ef1dlevel1_row3\" class=\"row_heading level1 row3\" >Persuasion</th>\n",
       "                        <td id=\"T_546cf09e_a551_11ea_81d6_d4bed904ef1drow3_col0\" class=\"data row3 col0\" >9</td>\n",
       "                        <td id=\"T_546cf09e_a551_11ea_81d6_d4bed904ef1drow3_col1\" class=\"data row3 col1\" >$3.22</td>\n",
       "                        <td id=\"T_546cf09e_a551_11ea_81d6_d4bed904ef1drow3_col2\" class=\"data row3 col2\" >$28.99</td>\n",
       "            </tr>\n",
       "            <tr>\n",
       "                        <th id=\"T_546cf09e_a551_11ea_81d6_d4bed904ef1dlevel0_row4\" class=\"row_heading level0 row4\" >108</th>\n",
       "                        <th id=\"T_546cf09e_a551_11ea_81d6_d4bed904ef1dlevel1_row4\" class=\"row_heading level1 row4\" >Extraction, Quickblade Of Trembling Hands</th>\n",
       "                        <td id=\"T_546cf09e_a551_11ea_81d6_d4bed904ef1drow4_col0\" class=\"data row4 col0\" >9</td>\n",
       "                        <td id=\"T_546cf09e_a551_11ea_81d6_d4bed904ef1drow4_col1\" class=\"data row4 col1\" >$3.53</td>\n",
       "                        <td id=\"T_546cf09e_a551_11ea_81d6_d4bed904ef1drow4_col2\" class=\"data row4 col2\" >$31.77</td>\n",
       "            </tr>\n",
       "    </tbody></table>"
      ],
      "text/plain": [
       "<pandas.io.formats.style.Styler at 0x920b160>"
      ]
     },
     "execution_count": 168,
     "metadata": {},
     "output_type": "execute_result"
    }
   ],
   "source": [
    "# Retrieve the Item ID, Item Name, and Item Price columns\n",
    "select_columns = purchase_data[[\"Item ID\", \"Item Name\", \"Price\"]]\n",
    "# select_columns\n",
    "\n",
    "# Group by Item ID and Item Name.\n",
    "id_grouped = select_columns.groupby([\"Item ID\", \"Item Name\"])\n",
    "# id_grouped\n",
    "\n",
    "# Perform calculations to obtain purchase count, item price, and total purchase value\n",
    "id_purchase_count = id_grouped[\"Price\"].count()\n",
    "# id_purchase_count\n",
    "\n",
    "total_item_value = (id_grouped[\"Price\"].sum())\n",
    "# total_item_value\n",
    "\n",
    "item_price = round(total_item_value / id_purchase_count, 2)\n",
    "# item_price\n",
    "\n",
    "# Create a summary data frame to hold the results\n",
    "popular_items = pd.DataFrame({\"Purchase Count\": id_purchase_count,\n",
    "                             \"Item Price\": item_price, \"Total ID Purchase Value\": total_item_value})\n",
    "\n",
    "# Formatting\n",
    "popular_dic = {\"Item Price\":\"${0:,.2f}\", \"Total ID Purchase Value\":\"${0:,.2f}\"}\n",
    "\n",
    "# Sort the purchase count column in descending order\n",
    "desc_popular_items = popular_items.sort_values([\"Purchase Count\"], ascending=False).head()\n",
    "\n",
    "# Display a preview of the summary data frame in cleaner form\n",
    "desc_popular_items.style.format(popular_dic)"
   ]
  },
  {
   "cell_type": "markdown",
   "metadata": {},
   "source": [
    "## Most Profitable Items"
   ]
  },
  {
   "cell_type": "markdown",
   "metadata": {},
   "source": [
    "* Sort the above table by total purchase value in descending order\n",
    "\n",
    "\n",
    "* Optional: give the displayed data cleaner formatting\n",
    "\n",
    "\n",
    "* Display a preview of the data frame\n",
    "\n"
   ]
  },
  {
   "cell_type": "code",
   "execution_count": 169,
   "metadata": {},
   "outputs": [
    {
     "data": {
      "text/html": [
       "<style  type=\"text/css\" >\n",
       "</style><table id=\"T_57856c67_a551_11ea_8460_d4bed904ef1d\" ><thead>    <tr>        <th class=\"blank\" ></th>        <th class=\"blank level0\" ></th>        <th class=\"col_heading level0 col0\" >Purchase Count</th>        <th class=\"col_heading level0 col1\" >Item Price</th>        <th class=\"col_heading level0 col2\" >Total ID Purchase Value</th>    </tr>    <tr>        <th class=\"index_name level0\" >Item ID</th>        <th class=\"index_name level1\" >Item Name</th>        <th class=\"blank\" ></th>        <th class=\"blank\" ></th>        <th class=\"blank\" ></th>    </tr></thead><tbody>\n",
       "                <tr>\n",
       "                        <th id=\"T_57856c67_a551_11ea_8460_d4bed904ef1dlevel0_row0\" class=\"row_heading level0 row0\" >92</th>\n",
       "                        <th id=\"T_57856c67_a551_11ea_8460_d4bed904ef1dlevel1_row0\" class=\"row_heading level1 row0\" >Final Critic</th>\n",
       "                        <td id=\"T_57856c67_a551_11ea_8460_d4bed904ef1drow0_col0\" class=\"data row0 col0\" >13</td>\n",
       "                        <td id=\"T_57856c67_a551_11ea_8460_d4bed904ef1drow0_col1\" class=\"data row0 col1\" >$4.61</td>\n",
       "                        <td id=\"T_57856c67_a551_11ea_8460_d4bed904ef1drow0_col2\" class=\"data row0 col2\" >$59.99</td>\n",
       "            </tr>\n",
       "            <tr>\n",
       "                        <th id=\"T_57856c67_a551_11ea_8460_d4bed904ef1dlevel0_row1\" class=\"row_heading level0 row1\" >178</th>\n",
       "                        <th id=\"T_57856c67_a551_11ea_8460_d4bed904ef1dlevel1_row1\" class=\"row_heading level1 row1\" >Oathbreaker, Last Hope of the Breaking Storm</th>\n",
       "                        <td id=\"T_57856c67_a551_11ea_8460_d4bed904ef1drow1_col0\" class=\"data row1 col0\" >12</td>\n",
       "                        <td id=\"T_57856c67_a551_11ea_8460_d4bed904ef1drow1_col1\" class=\"data row1 col1\" >$4.23</td>\n",
       "                        <td id=\"T_57856c67_a551_11ea_8460_d4bed904ef1drow1_col2\" class=\"data row1 col2\" >$50.76</td>\n",
       "            </tr>\n",
       "            <tr>\n",
       "                        <th id=\"T_57856c67_a551_11ea_8460_d4bed904ef1dlevel0_row2\" class=\"row_heading level0 row2\" >82</th>\n",
       "                        <th id=\"T_57856c67_a551_11ea_8460_d4bed904ef1dlevel1_row2\" class=\"row_heading level1 row2\" >Nirvana</th>\n",
       "                        <td id=\"T_57856c67_a551_11ea_8460_d4bed904ef1drow2_col0\" class=\"data row2 col0\" >9</td>\n",
       "                        <td id=\"T_57856c67_a551_11ea_8460_d4bed904ef1drow2_col1\" class=\"data row2 col1\" >$4.90</td>\n",
       "                        <td id=\"T_57856c67_a551_11ea_8460_d4bed904ef1drow2_col2\" class=\"data row2 col2\" >$44.10</td>\n",
       "            </tr>\n",
       "            <tr>\n",
       "                        <th id=\"T_57856c67_a551_11ea_8460_d4bed904ef1dlevel0_row3\" class=\"row_heading level0 row3\" >145</th>\n",
       "                        <th id=\"T_57856c67_a551_11ea_8460_d4bed904ef1dlevel1_row3\" class=\"row_heading level1 row3\" >Fiery Glass Crusader</th>\n",
       "                        <td id=\"T_57856c67_a551_11ea_8460_d4bed904ef1drow3_col0\" class=\"data row3 col0\" >9</td>\n",
       "                        <td id=\"T_57856c67_a551_11ea_8460_d4bed904ef1drow3_col1\" class=\"data row3 col1\" >$4.58</td>\n",
       "                        <td id=\"T_57856c67_a551_11ea_8460_d4bed904ef1drow3_col2\" class=\"data row3 col2\" >$41.22</td>\n",
       "            </tr>\n",
       "            <tr>\n",
       "                        <th id=\"T_57856c67_a551_11ea_8460_d4bed904ef1dlevel0_row4\" class=\"row_heading level0 row4\" >103</th>\n",
       "                        <th id=\"T_57856c67_a551_11ea_8460_d4bed904ef1dlevel1_row4\" class=\"row_heading level1 row4\" >Singed Scalpel</th>\n",
       "                        <td id=\"T_57856c67_a551_11ea_8460_d4bed904ef1drow4_col0\" class=\"data row4 col0\" >8</td>\n",
       "                        <td id=\"T_57856c67_a551_11ea_8460_d4bed904ef1drow4_col1\" class=\"data row4 col1\" >$4.35</td>\n",
       "                        <td id=\"T_57856c67_a551_11ea_8460_d4bed904ef1drow4_col2\" class=\"data row4 col2\" >$34.80</td>\n",
       "            </tr>\n",
       "    </tbody></table>"
      ],
      "text/plain": [
       "<pandas.io.formats.style.Styler at 0x92831c0>"
      ]
     },
     "execution_count": 169,
     "metadata": {},
     "output_type": "execute_result"
    }
   ],
   "source": [
    "# Sort the above table by total purchase value in descending order\n",
    "desc_popular_items = popular_items.sort_values([\"Total ID Purchase Value\"], ascending=False).head()\n",
    "\n",
    "# Formatting\n",
    "popular_items_dic = {\"Item Price\":\"${0:,.2f}\", \"Total ID Purchase Value\":\"${0:,.2f}\"}\n",
    "\n",
    "# Display a preview of the data frame\n",
    "desc_popular_items.style.format(popular_items_dic)"
   ]
  },
  {
   "cell_type": "code",
   "execution_count": null,
   "metadata": {},
   "outputs": [],
   "source": []
  }
 ],
 "metadata": {
  "anaconda-cloud": {},
  "kernel_info": {
   "name": "python3"
  },
  "kernelspec": {
   "display_name": "Python [conda env:PythonData] *",
   "language": "python",
   "name": "conda-env-PythonData-py"
  },
  "language_info": {
   "codemirror_mode": {
    "name": "ipython",
    "version": 3
   },
   "file_extension": ".py",
   "mimetype": "text/x-python",
   "name": "python",
   "nbconvert_exporter": "python",
   "pygments_lexer": "ipython3",
   "version": "3.8.3"
  },
  "latex_envs": {
   "LaTeX_envs_menu_present": true,
   "autoclose": false,
   "autocomplete": true,
   "bibliofile": "biblio.bib",
   "cite_by": "apalike",
   "current_citInitial": 1,
   "eqLabelWithNumbers": true,
   "eqNumInitial": 1,
   "hotkeys": {
    "equation": "Ctrl-E",
    "itemize": "Ctrl-I"
   },
   "labels_anchors": false,
   "latex_user_defs": false,
   "report_style_numbering": false,
   "user_envs_cfg": false
  },
  "nteract": {
   "version": "0.2.0"
  }
 },
 "nbformat": 4,
 "nbformat_minor": 2
}
